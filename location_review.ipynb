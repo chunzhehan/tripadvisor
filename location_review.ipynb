{
 "cells": [
  {
   "cell_type": "code",
   "execution_count": 1,
   "id": "6acbbc14",
   "metadata": {},
   "outputs": [],
   "source": [
    "import pandas as pd\n",
    "import numpy as np\n",
    "import os\n",
    "import requests"
   ]
  },
  {
   "cell_type": "code",
   "execution_count": 2,
   "id": "f37153b7",
   "metadata": {},
   "outputs": [],
   "source": [
    "import pyodbc\n",
    "import urllib\n",
    "import sqlalchemy\n",
    "# MySQL connection parameters\n",
    "db_params = {\n",
    "    'user': 'han',\n",
    "    'password': 'joseph',\n",
    "    'host': '127.0.0.1',  # Usually 'localhost' or an IP address\n",
    "    'port': '4450',  # Default MySQL port is 3306\n",
    "    'database': 'ITRAVEL',\n",
    "}\n",
    "\n",
    "# URL-encode the password (if it contains special characters)\n",
    "db_params['password'] = urllib.parse.quote_plus(db_params['password'])\n",
    "\n",
    "# Create a MySQL database connection using SQLAlchemy\n",
    "params_mysql = \"mysql+mysqlconnector://{user}:{password}@{host}:{port}/{database}\".format(**db_params)\n",
    "engine_mysql = sqlalchemy.create_engine(params_mysql)"
   ]
  },
  {
   "cell_type": "code",
   "execution_count": 3,
   "id": "a26d3fa7",
   "metadata": {},
   "outputs": [],
   "source": [
    "engine_p=engine_mysql"
   ]
  },
  {
   "cell_type": "code",
   "execution_count": 4,
   "id": "81ca8229",
   "metadata": {},
   "outputs": [],
   "source": [
    "pd.set_option('display.max_rows', None)"
   ]
  },
  {
   "cell_type": "code",
   "execution_count": 4,
   "id": "277f3022",
   "metadata": {},
   "outputs": [],
   "source": [
    "'''get locations data from source database'''\n",
    "df_locations = pd.read_sql_table('locations',engine_p)\n",
    "df_reviews  = pd.read_sql_table('location_reviews',engine_p)\n",
    "df_users  = pd.read_sql_table('users',engine_p)"
   ]
  },
  {
   "cell_type": "code",
   "execution_count": 5,
   "id": "d3faade3",
   "metadata": {},
   "outputs": [
    {
     "name": "stdout",
     "output_type": "stream",
     "text": [
      "<class 'pandas.core.frame.DataFrame'>\n",
      "RangeIndex: 9834 entries, 0 to 9833\n",
      "Data columns (total 8 columns):\n",
      " #   Column            Non-Null Count  Dtype \n",
      "---  ------            --------------  ----- \n",
      " 0   username          9834 non-null   object\n",
      " 1   user_location_id  9834 non-null   int64 \n",
      " 2   name              9834 non-null   object\n",
      " 3   avatar_thumbnail  9834 non-null   object\n",
      " 4   avatar_small      9834 non-null   object\n",
      " 5   avatar_medium     9834 non-null   object\n",
      " 6   avatar_large      9834 non-null   object\n",
      " 7   avatar_original   9834 non-null   object\n",
      "dtypes: int64(1), object(7)\n",
      "memory usage: 614.8+ KB\n"
     ]
    }
   ],
   "source": [
    "#  df_users = df_users.drop('id', axis=1)\n",
    "df_users.info()\n"
   ]
  },
  {
   "cell_type": "code",
   "execution_count": 5,
   "id": "0a50f033",
   "metadata": {
    "scrolled": false
   },
   "outputs": [],
   "source": [
    "def get_user(df_review):\n",
    "    user=pd.DataFrame()\n",
    "    # Loop through the rows using iterrows()\n",
    "    for index, row in df_review.iterrows():\n",
    "        data=eval(row['user'])\n",
    "        \n",
    "        user_location = data.get('user_location', {})\n",
    "        user_location_id = user_location.get('id', 0)\n",
    "        user_location_name = user_location.get('name', 'null')\n",
    "\n",
    "        avatar = data.get('avatar', {})\n",
    "        avatar_thumbnail = avatar.get('thumbnail', 'null')\n",
    "        avatar_small = avatar.get('small', 'null')\n",
    "        avatar_medium = avatar.get('medium', 'null')\n",
    "        avatar_large = avatar.get('large', 'null')\n",
    "        avatar_original = avatar.get('original', 'null')\n",
    "\n",
    "        df1 = pd.DataFrame({'username': data['username'], \n",
    "                            'user_location_id': user_location_id, \n",
    "                            'name': user_location_name,\n",
    "                            'avatar_thumbnail':avatar_thumbnail,\n",
    "                            'avatar_small':avatar_small,\n",
    "                            'avatar_medium':avatar_medium,\n",
    "                            'avatar_large':avatar_large,\n",
    "                            'avatar_original':avatar_original                       \n",
    "                           }, index=[0])\n",
    "        user=pd.concat([user,df1])\n",
    "\n",
    "\n",
    "    user=user.reset_index(drop=True)\n",
    "\n",
    "    if 'user_location_id' in user.columns:\n",
    "        user['user_location_id']=user['user_location_id'].replace('null',0)\n",
    "    \n",
    "    return user\n"
   ]
  },
  {
   "cell_type": "code",
   "execution_count": 6,
   "id": "9483fa47",
   "metadata": {},
   "outputs": [],
   "source": [
    "# Define a location reviews function\n",
    "def call_location_reviews(location_id):\n",
    "    \"\"\"This function get location reviews through api .\"\"\"\n",
    "    \n",
    "    # API URL\n",
    "    api_url = \"https://api.content.tripadvisor.com/api/v1/location/\" + str(location_id) + \"/reviews?language=en&key=72577774A72F48D9BF1180DEA12E312A\"\n",
    "\n",
    "    # Make API request\n",
    "    response = requests.get(api_url)\n",
    "#     data = response.json()\n",
    "#     df = pd.DataFrame(data['data'])\n",
    "        \n",
    "    try:\n",
    "        data = response.json()\n",
    "        df = pd.DataFrame(data['data'])\n",
    "    except KeyError:\n",
    "        print(\"Key 'data' not found in the JSON response.\")\n",
    "        df = pd.DataFrame() \n",
    "        return df\n",
    "    \n",
    "        \n",
    "    if 'user' in df.columns:\n",
    "        df['user'] = df['user'].astype(str)\n",
    "    else:\n",
    "        df['user']='null'\n",
    "\n",
    "    if 'subratings' in df.columns:\n",
    "        df['subratings'] = df['subratings'].astype(str)\n",
    "    else:\n",
    "        df['subratings']='null'\n",
    "        \n",
    "    if 'owner_response' in df.columns:\n",
    "        df['owner_response'] = df['owner_response'].astype(str)\n",
    "    else:\n",
    "        df['owner_response'] = 'null'\n",
    "    return df"
   ]
  },
  {
   "cell_type": "code",
   "execution_count": 7,
   "id": "48677b20",
   "metadata": {},
   "outputs": [
    {
     "name": "stdout",
     "output_type": "stream",
     "text": [
      "Key 'data' not found in the JSON response.\n"
     ]
    }
   ],
   "source": [
    "# Loop through DataFrame rows\n",
    "df_new_reviews=pd.DataFrame()\n",
    "\n",
    "itv=0\n",
    "for index, row in df_locations.iterrows():\n",
    "    if index < (itv+0) or index >= (itv+500) :\n",
    "        continue;\n",
    "        \n",
    "    location_id = row['location_id']\n",
    "    df1=call_location_reviews(location_id)\n",
    "    df_new_reviews=pd.concat([df_new_reviews, df1], ignore_index=True)"
   ]
  },
  {
   "cell_type": "code",
   "execution_count": 8,
   "id": "0a791d9e",
   "metadata": {},
   "outputs": [
    {
     "name": "stdout",
     "output_type": "stream",
     "text": [
      "<class 'pandas.core.frame.DataFrame'>\n",
      "RangeIndex: 2213 entries, 0 to 2212\n",
      "Data columns (total 15 columns):\n",
      " #   Column            Non-Null Count  Dtype  \n",
      "---  ------            --------------  -----  \n",
      " 0   user              2213 non-null   object \n",
      " 1   subratings        2213 non-null   object \n",
      " 2   owner_response    2213 non-null   object \n",
      " 3   id                2213 non-null   float64\n",
      " 4   lang              2213 non-null   object \n",
      " 5   location_id       2213 non-null   float64\n",
      " 6   published_date    2213 non-null   object \n",
      " 7   rating            2213 non-null   float64\n",
      " 8   helpful_votes     2213 non-null   float64\n",
      " 9   rating_image_url  2213 non-null   object \n",
      " 10  url               2213 non-null   object \n",
      " 11  text              2213 non-null   object \n",
      " 12  title             2213 non-null   object \n",
      " 13  trip_type         2198 non-null   object \n",
      " 14  travel_date       2198 non-null   object \n",
      "dtypes: float64(4), object(11)\n",
      "memory usage: 259.5+ KB\n"
     ]
    }
   ],
   "source": [
    "df_new_reviews.info()"
   ]
  },
  {
   "cell_type": "code",
   "execution_count": 9,
   "id": "19890c22",
   "metadata": {},
   "outputs": [
    {
     "name": "stdout",
     "output_type": "stream",
     "text": [
      "<class 'pandas.core.frame.DataFrame'>\n",
      "Int64Index: 854 entries, 0 to 2208\n",
      "Data columns (total 15 columns):\n",
      " #   Column            Non-Null Count  Dtype  \n",
      "---  ------            --------------  -----  \n",
      " 0   user              854 non-null    object \n",
      " 1   subratings        854 non-null    object \n",
      " 2   owner_response    854 non-null    object \n",
      " 3   lang              854 non-null    object \n",
      " 4   location_id       854 non-null    float64\n",
      " 5   published_date    854 non-null    object \n",
      " 6   rating            854 non-null    float64\n",
      " 7   helpful_votes     854 non-null    float64\n",
      " 8   rating_image_url  854 non-null    object \n",
      " 9   url               854 non-null    object \n",
      " 10  text              854 non-null    object \n",
      " 11  title             854 non-null    object \n",
      " 12  trip_type         853 non-null    object \n",
      " 13  travel_date       853 non-null    object \n",
      " 14  review_id         854 non-null    float64\n",
      "dtypes: float64(4), object(11)\n",
      "memory usage: 106.8+ KB\n"
     ]
    }
   ],
   "source": [
    "# df_new_reviews\n",
    "df_new_reviews['review_id']=df_new_reviews['id']\n",
    "df_new_reviews = df_new_reviews.drop('id', axis=1)\n",
    "\n",
    "'''drop duplicate new review data ''' \n",
    "df_new_reviews=df_new_reviews.drop_duplicates(subset='review_id')\n",
    "\n",
    "'''read existing review data ''' \n",
    "df_reviews  = pd.read_sql_table('location_reviews',engine_p)\n",
    "\n",
    "\n",
    "'''remove existing review records'''\n",
    "df_new_reviews = df_new_reviews[~df_new_reviews['review_id'].isin(df_reviews['review_id'])]\n",
    "df_new_reviews.info()"
   ]
  },
  {
   "cell_type": "code",
   "execution_count": 10,
   "id": "70e59ad0",
   "metadata": {},
   "outputs": [
    {
     "name": "stdout",
     "output_type": "stream",
     "text": [
      "<class 'pandas.core.frame.DataFrame'>\n",
      "RangeIndex: 854 entries, 0 to 853\n",
      "Data columns (total 8 columns):\n",
      " #   Column            Non-Null Count  Dtype \n",
      "---  ------            --------------  ----- \n",
      " 0   username          854 non-null    object\n",
      " 1   user_location_id  854 non-null    object\n",
      " 2   name              854 non-null    object\n",
      " 3   avatar_thumbnail  854 non-null    object\n",
      " 4   avatar_small      854 non-null    object\n",
      " 5   avatar_medium     854 non-null    object\n",
      " 6   avatar_large      854 non-null    object\n",
      " 7   avatar_original   854 non-null    object\n",
      "dtypes: object(8)\n",
      "memory usage: 53.5+ KB\n"
     ]
    }
   ],
   "source": [
    "# Add column: username, user_location_id\n",
    "# df_new_reviews = df_new_reviews[~df_new_reviews['review_id'].isin(df_reviews['review_id'])]\n",
    "# new_users=get_user(df_new_reviews)\n",
    "new_users=get_user(df_new_reviews)\n",
    "\n",
    "new_users.info()"
   ]
  },
  {
   "cell_type": "code",
   "execution_count": 11,
   "id": "4e373dfc",
   "metadata": {},
   "outputs": [],
   "source": [
    "df_new_reviews['user_location_id']=new_users['user_location_id']\n",
    "df_new_reviews['username']=new_users['username']\n",
    "# df_new_reviews.info()\n"
   ]
  },
  {
   "cell_type": "code",
   "execution_count": 12,
   "id": "2c7466b5",
   "metadata": {},
   "outputs": [
    {
     "name": "stdout",
     "output_type": "stream",
     "text": [
      "<class 'pandas.core.frame.DataFrame'>\n",
      "Int64Index: 854 entries, 0 to 2208\n",
      "Data columns (total 17 columns):\n",
      " #   Column            Non-Null Count  Dtype  \n",
      "---  ------            --------------  -----  \n",
      " 0   user              854 non-null    object \n",
      " 1   subratings        854 non-null    object \n",
      " 2   owner_response    854 non-null    object \n",
      " 3   lang              854 non-null    object \n",
      " 4   location_id       854 non-null    float64\n",
      " 5   published_date    854 non-null    object \n",
      " 6   rating            854 non-null    float64\n",
      " 7   helpful_votes     854 non-null    float64\n",
      " 8   rating_image_url  854 non-null    object \n",
      " 9   url               854 non-null    object \n",
      " 10  text              854 non-null    object \n",
      " 11  title             854 non-null    object \n",
      " 12  trip_type         853 non-null    object \n",
      " 13  travel_date       853 non-null    object \n",
      " 14  review_id         854 non-null    float64\n",
      " 15  user_location_id  406 non-null    object \n",
      " 16  username          406 non-null    object \n",
      "dtypes: float64(4), object(13)\n",
      "memory usage: 120.1+ KB\n"
     ]
    }
   ],
   "source": [
    "df_new_reviews.info()"
   ]
  },
  {
   "cell_type": "code",
   "execution_count": 13,
   "id": "2229eaaa",
   "metadata": {},
   "outputs": [
    {
     "data": {
      "text/plain": [
       "854"
      ]
     },
     "execution_count": 13,
     "metadata": {},
     "output_type": "execute_result"
    }
   ],
   "source": [
    "# Save new review DataFrame to SQL database\n",
    "df_new_reviews.to_sql(\"location_reviews\",engine_p,if_exists='append',index=False)"
   ]
  },
  {
   "cell_type": "code",
   "execution_count": null,
   "id": "f9ac8a8b",
   "metadata": {},
   "outputs": [],
   "source": []
  }
 ],
 "metadata": {
  "kernelspec": {
   "display_name": "Python 3 (ipykernel)",
   "language": "python",
   "name": "python3"
  },
  "language_info": {
   "codemirror_mode": {
    "name": "ipython",
    "version": 3
   },
   "file_extension": ".py",
   "mimetype": "text/x-python",
   "name": "python",
   "nbconvert_exporter": "python",
   "pygments_lexer": "ipython3",
   "version": "3.9.12"
  }
 },
 "nbformat": 4,
 "nbformat_minor": 5
}
